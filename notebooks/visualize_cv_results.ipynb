{
 "cells": [
  {
   "cell_type": "code",
   "execution_count": null,
   "id": "25072f5b",
   "metadata": {
    "vscode": {
     "languageId": "plaintext"
    }
   },
   "outputs": [],
   "source": [
    "python\n",
    "import matplotlib.pyplot as plt\n",
    "import seaborn as sns\n",
    "import pickle\n",
    "\n",
    "# 事前に「学習時の結果」をpickle等で保存しておくことを推奨\n",
    "# 例: with open(\"results_cv.pkl\", \"wb\") as f: pickle.dump(results, f)\n",
    "# ここでは「results」はtrain_with_feature_selectionの返り値（dict）を想定\n",
    "\n",
    "with open(\"results_cv.pkl\", \"rb\") as f:\n",
    "    results = pickle.load(f)\n",
    "\n",
    "# 1. Accuracyの棒グラフ\n",
    "plt.figure(figsize=(7, 4))\n",
    "sns.barplot(x=list(range(1, len(results['cv_scores']) + 1)), y=results['cv_scores'])\n",
    "plt.title(\"Accuracy for each fold\")\n",
    "plt.xlabel(\"Fold\")\n",
    "plt.ylabel(\"Accuracy\")\n",
    "plt.ylim(0, 1)\n",
    "plt.show()\n",
    "\n",
    "# 2. 各foldごとの混同行列ヒートマップ\n",
    "for i, cm in enumerate(results['conf_matrices']):\n",
    "    plt.figure(figsize=(5, 4))\n",
    "    sns.heatmap(cm, annot=True, fmt='d', cmap='Blues',\n",
    "                xticklabels=[0, 1, 2], yticklabels=[0, 1, 2])\n",
    "    plt.title(f\"Confusion Matrix: Fold {i + 1}\")\n",
    "    plt.xlabel(\"Predicted\")\n",
    "    plt.ylabel(\"True\")\n",
    "    plt.show()\n",
    "\n",
    "# 3. 各foldごとのf1-score, precision, recallの推移\n",
    "f1s, precs, recs = [], [], []\n",
    "for r in results['cv_reports']:\n",
    "    f1s.append((r['0']['f1-score'] + r['1']['f1-score'] + r['2']['f1-score']) / 3)\n",
    "    precs.append((r['0']['precision'] + r['1']['precision'] + r['2']['precision']) / 3)\n",
    "    recs.append((r['0']['recall'] + r['1']['recall'] + r['2']['recall']) / 3)\n",
    "\n",
    "plt.figure(figsize=(7, 4))\n",
    "plt.plot(range(1, len(f1s) + 1), f1s, label=\"F1-score\", marker='o')\n",
    "plt.plot(range(1, len(precs) + 1), precs, label=\"Precision\", marker='s')\n",
    "plt.plot(range(1, len(recs) + 1), recs, label=\"Recall\", marker='^')\n",
    "plt.title(\"Macro average per fold\")\n",
    "plt.xlabel(\"Fold\")\n",
    "plt.ylabel(\"Score\")\n",
    "plt.ylim(0, 1)\n",
    "plt.legend()\n",
    "plt.show()"
   ]
  }
 ],
 "metadata": {
  "language_info": {
   "name": "python"
  }
 },
 "nbformat": 4,
 "nbformat_minor": 5
}
